{
 "cells": [
  {
   "cell_type": "code",
   "execution_count": 7,
   "id": "61e3bfc6-1a60-4f88-8c88-a135088467e7",
   "metadata": {},
   "outputs": [],
   "source": [
    "#Holden Higgins\n",
    "#8-29-2022"
   ]
  },
  {
   "cell_type": "code",
   "execution_count": 8,
   "id": "cbb3b41f-6b92-471d-ac14-19781e17a1d2",
   "metadata": {},
   "outputs": [],
   "source": [
    "from manim import *\n",
    "\n",
    "config.media_width = \"75%\"\n",
    "config.verbosity = \"WARNING\""
   ]
  },
  {
   "cell_type": "code",
   "execution_count": 9,
   "id": "36f36b3d-473b-4283-9bf2-8521814a59fe",
   "metadata": {},
   "outputs": [
    {
     "name": "stderr",
     "output_type": "stream",
     "text": [
      "                                                                                                                                                \r"
     ]
    },
    {
     "data": {
      "text/html": [
       "<video src=\"media/jupyter/CircleToSquare@2022-09-01@15-31-35.mp4\" controls autoplay loop style=\"max-width: 75%;\"  >\n",
       "      Your browser does not support the <code>video</code> element.\n",
       "    </video>"
      ],
      "text/plain": [
       "<IPython.core.display.Video object>"
      ]
     },
     "metadata": {},
     "output_type": "display_data"
    }
   ],
   "source": [
    "%%manim -qm CircleToSquare\n",
    "\n",
    "class CircleToSquare(Scene):\n",
    "    def construct(self):\n",
    "        circle = Circle(color=BLUE, fill_opacity=0.3)\n",
    "        green_square = Square(color=GREEN, fill_opacity=0.8)\n",
    "        self.play(DrawBorderThenFill(circle))\n",
    "        self.wait()\n",
    "        \n",
    "        self.play(Transform(circle, green_square))\n",
    "        self.wait()"
   ]
  },
  {
   "cell_type": "code",
   "execution_count": 10,
   "id": "94df33eb-9e20-4927-b6a7-78dc6ffcfeea",
   "metadata": {},
   "outputs": [
    {
     "name": "stderr",
     "output_type": "stream",
     "text": [
      "                                                                                                                                                \r"
     ]
    },
    {
     "data": {
      "text/html": [
       "<video src=\"media/jupyter/LinearTransform@2022-09-01@15-31-36.mp4\" controls autoplay loop style=\"max-width: 75%;\"  >\n",
       "      Your browser does not support the <code>video</code> element.\n",
       "    </video>"
      ],
      "text/plain": [
       "<IPython.core.display.Video object>"
      ]
     },
     "metadata": {},
     "output_type": "display_data"
    }
   ],
   "source": [
    "%%manim  -qm LinearTransform\n",
    "\n",
    "class LinearTransform(Scene):\n",
    "    def construct(self):\n",
    "        title = Tex(r\"This is an animation\")\n",
    "        self.play(\n",
    "            Write(title))\n",
    "        self.wait()\n",
    "        self.play(Unwrite(title))\n",
    "        self.wait()\n",
    "        \n",
    "        grid = NumberPlane()\n",
    "        self.play(Create(grid))\n",
    "        # grid.add_coordinates()\n",
    "        circle = Circle(color=PINK, fill_opacity=0.3)\n",
    "        circle.scale(.3)\n",
    "        circle.move_to(grid.c2p(1,3))\n",
    "        self.play(Create(circle))\n",
    "        self.play(Uncreate(circle))\n",
    "        circle = Circle(color=PINK, fill_opacity=0.3)\n",
    "        circle.scale(.3)\n",
    "        \n",
    "        # circle.next_to(grid, LEFT, buff=0)\n",
    "        # self.play()\n",
    "\n",
    "        self.play(\n",
    "            grid.animate.apply_matrix([[2,1],[0,1]]),\n",
    "            run_time=1.5,\n",
    "        )\n",
    "        \n",
    "        circle.move_to(grid.c2p(1,3))\n",
    "        self.play(Create(circle))\n",
    "        self.wait()\n",
    "        "
   ]
  },
  {
   "cell_type": "code",
   "execution_count": null,
   "id": "2e5b8209-270f-4297-b71c-ed4f3059f6eb",
   "metadata": {},
   "outputs": [],
   "source": []
  },
  {
   "cell_type": "code",
   "execution_count": null,
   "id": "df15e280-36de-4ec6-81ab-18aa49498e56",
   "metadata": {},
   "outputs": [],
   "source": []
  }
 ],
 "metadata": {
  "kernelspec": {
   "display_name": "Python 3 (ipykernel)",
   "language": "python",
   "name": "python3"
  },
  "language_info": {
   "codemirror_mode": {
    "name": "ipython",
    "version": 3
   },
   "file_extension": ".py",
   "mimetype": "text/x-python",
   "name": "python",
   "nbconvert_exporter": "python",
   "pygments_lexer": "ipython3",
   "version": "3.9.2"
  }
 },
 "nbformat": 4,
 "nbformat_minor": 5
}
