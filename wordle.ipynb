{
 "cells": [
  {
   "cell_type": "code",
   "execution_count": 1,
   "id": "cb904927-27dc-4ed8-9cec-96095506a34f",
   "metadata": {},
   "outputs": [
    {
     "name": "stdout",
     "output_type": "stream",
     "text": [
      "3210\n"
     ]
    }
   ],
   "source": [
    "# setup\n",
    "from __future__ import annotations\n",
    "from time import time\n",
    "import random\n",
    "from collections import defaultdict\n",
    "# get the words\n",
    "from nltk.corpus import words\n",
    "from english_words import english_words_lower_set \n",
    "\n",
    "# fivers = [word for word in words.words() if len(word)==5]\n",
    "fivers = [word for word in english_words_lower_set if len(word)==5]\n",
    "print(len(fivers))"
   ]
  },
  {
   "cell_type": "code",
   "execution_count": 2,
   "id": "ac35c771-eb51-4333-920e-58365db1a770",
   "metadata": {},
   "outputs": [
    {
     "name": "stdout",
     "output_type": "stream",
     "text": [
      "defaultdict(<class 'int'>, {'h': 535, 'a': 1550, 't': 947, 'c': 656, 'e': 1679, 'l': 1004, 'o': 1053, 'x': 67, 'r': 1126, 'm': 467, 'v': 195, 'i': 947, 's': 958, 'y': 585, 'p': 466, 'u': 611, 'g': 410, 'n': 869, 'd': 513, 'b': 423, 'w': 232, 'f': 274, 'j': 58, 'k': 298, \"'\": 15, 'z': 72, 'q': 38, '.': 2})\n",
      "['arose', 'erato', 'orate', 'lares', 'alert', 'later', 'alter', 'aires', 'aster', 'raise']\n"
     ]
    }
   ],
   "source": [
    "freqs = defaultdict(int)\n",
    "for word in fivers:\n",
    "    for letter in word:\n",
    "        freqs[letter]+=1\n",
    "        \n",
    "print(freqs)\n",
    "freq_sorted_fivers = sorted(fivers, key = lambda w: sum([freqs[l] for l in set(w)]), reverse=True)\n",
    "print(freq_sorted_fivers[:10])"
   ]
  },
  {
   "cell_type": "code",
   "execution_count": 3,
   "id": "8b8e0646-364d-4e98-9491-4ad489d73b58",
   "metadata": {},
   "outputs": [],
   "source": [
    "def get_word() -> str:\n",
    "    return random.choice(fivers)\n",
    "#     return \"splat\" # placeholder\n",
    "\n",
    "# returns a list evaluating guess by index. \n",
    "# 0 = not in word\n",
    "# 1 = in word, wrong loc\n",
    "# 2 = in word, right loc\n",
    "def guess_word(guess: str, word: str) -> list[int]:\n",
    "    assert len(guess) == len(word) == 5\n",
    "    check = [0]*5\n",
    "    for i in range(len(guess)):\n",
    "        if guess[i] not in word:\n",
    "            continue\n",
    "        check[i]+=1\n",
    "        if guess[i] == word[i]:\n",
    "            check[i]+=1\n",
    "            \n",
    "    return check\n",
    "\n",
    "def generate_guess(\n",
    "    word: str,\n",
    "    past_guesses: list[str], \n",
    "    past_checks: list[list[int]],\n",
    "    word_set: list[str],\n",
    "    possible_words: list[str],\n",
    "    use_novelty_filt: bool) -> str:\n",
    "    \n",
    "    \n",
    "    contained = set() #set, equiv to yellows\n",
    "    located = {} #dict{idx:char}, equiv to greens\n",
    "    not_contained = set() # bad guesses\n",
    "\n",
    "    for g in range(len(past_guesses)):\n",
    "        for i in range(len(past_guesses[g])):\n",
    "            guess = past_guesses[g][i]\n",
    "            check = past_checks[g][i]\n",
    "            if check == 0:\n",
    "                not_contained.add(guess)\n",
    "            if check >= 1:\n",
    "                contained.add(guess)\n",
    "            if check == 2:\n",
    "                located[i]=guess\n",
    "\n",
    "    all_letters = contained.union(not_contained)\n",
    "    def novelty_filt(word):\n",
    "        wset = set(word)\n",
    "        return wset.isdisjoint(all_letters)\n",
    "        \n",
    "    def filt(word):\n",
    "        # fail words without placed greens\n",
    "        for idx, c in located.items():\n",
    "            if word[idx] != c:\n",
    "                return False\n",
    "        # fail words which don't contain the yellows\n",
    "        wset = set(word)\n",
    "        if not wset >= contained:\n",
    "            return False\n",
    "        if not wset.isdisjoint(not_contained): # don't reuse known bad letters\n",
    "            return False\n",
    "        \n",
    "        if word in (past_guesses):\n",
    "            return False\n",
    "        \n",
    "        return True\n",
    "    \n",
    "    #filter possible_words in place to reduce list size each round\n",
    "    for idx in range(len(possible_words))[::-1]:\n",
    "        if not filt(possible_words[idx]):\n",
    "            possible_words.pop(idx)\n",
    "    \n",
    "    if use_novelty_filt and len(contained)<5:\n",
    "        common_novel = filter(novelty_filt, freq_sorted_fivers)\n",
    "        for guess in common_novel:\n",
    "            if len(set(guess))==5: # choose the first word with 5 uniqe letters\n",
    "                return guess\n",
    "            \n",
    "    return random.choice(possible_words)\n",
    "\n",
    "# recursion, whee!\n",
    "def guess_until_right(\n",
    "    word: str,\n",
    "    past_guesses: list[str], \n",
    "    past_checks: list[list[int]],\n",
    "    word_set: list[str],\n",
    "    possible_words: list[str],\n",
    "    novelty_rnds: bool) -> tuple[str,list,list]:\n",
    "\n",
    "    \n",
    "    current_guess = generate_guess(word, past_guesses, past_checks, word_set, possible_words, len(past_guesses)<novelty_rnds)\n",
    "    current_check = guess_word(current_guess, word)\n",
    "#     print(f\"{current_guess}: {current_check}\")\n",
    "    past_guesses.append(current_guess)\n",
    "    past_checks.append(current_check)\n",
    "    \n",
    "    if sum(current_check) == 10:\n",
    "        return word, past_guesses, past_checks\n",
    "    else:\n",
    "        return guess_until_right(word, past_guesses, past_checks, word_set, possible_words, novelty_rnds)\n",
    "    \n",
    "def play_game(novelty_rnds):\n",
    "    word = get_word()\n",
    "    possible_words = [word for word in fivers]\n",
    "    \n",
    "    return guess_until_right(word, [], [], fivers, possible_words, novelty_rnds)\n",
    "    "
   ]
  },
  {
   "cell_type": "code",
   "execution_count": 4,
   "id": "8529a05f-33e1-459f-801c-6c5031a7c570",
   "metadata": {},
   "outputs": [
    {
     "name": "stdout",
     "output_type": "stream",
     "text": [
      "finished 250 rounds in 1.5652432441711426s, avergaging 4.396 guesses/round\n"
     ]
    }
   ],
   "source": [
    "start = time()\n",
    "rounds = 250\n",
    "tries = 0\n",
    "for _ in range(rounds):\n",
    "    word, guesses, checks = play_game(3)\n",
    "    tries += len(guesses)\n",
    "#     print(f\"guessed {w} in {len(gs)} tries\")\n",
    "print(f\"finished {rounds} rounds in {time()-start}s, avergaging {tries/rounds} guesses/round\")"
   ]
  },
  {
   "cell_type": "code",
   "execution_count": null,
   "id": "de7855c9-6339-473f-bd86-eb7bcd02c3a5",
   "metadata": {},
   "outputs": [],
   "source": [
    "\n",
    "for i in range(5):\n",
    "    start = time()\n",
    "    rounds = 2500\n",
    "    tries = 0\n",
    "    for _ in range(rounds):\n",
    "        word, guesses, checks = play_game(i)\n",
    "        tries += len(guesses)\n",
    "    #     print(f\"guessed {w} in {len(gs)} tries\")\n",
    "    print(f\"finished {rounds} rounds in {time()-start}s, avergaging {tries/rounds} guesses/round, using {i} novel guesses\")"
   ]
  },
  {
   "cell_type": "code",
   "execution_count": null,
   "id": "30003d5a-6efc-468a-889b-5ccd46a897bc",
   "metadata": {},
   "outputs": [],
   "source": []
  },
  {
   "cell_type": "code",
   "execution_count": null,
   "id": "bb311274-cc95-43ff-985b-c1b7b3bbed08",
   "metadata": {},
   "outputs": [],
   "source": []
  },
  {
   "cell_type": "code",
   "execution_count": null,
   "id": "dd1e1885-20f6-4a33-aa39-20a528f1bb52",
   "metadata": {},
   "outputs": [],
   "source": []
  }
 ],
 "metadata": {
  "kernelspec": {
   "display_name": "Python 3",
   "language": "python",
   "name": "python3"
  },
  "language_info": {
   "codemirror_mode": {
    "name": "ipython",
    "version": 3
   },
   "file_extension": ".py",
   "mimetype": "text/x-python",
   "name": "python",
   "nbconvert_exporter": "python",
   "pygments_lexer": "ipython3",
   "version": "3.8.8"
  }
 },
 "nbformat": 4,
 "nbformat_minor": 5
}
