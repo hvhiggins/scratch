{
 "cells": [
  {
   "cell_type": "code",
   "execution_count": 64,
   "id": "0d2d112a-b6c2-4250-b956-eadc446d4be5",
   "metadata": {},
   "outputs": [],
   "source": [
    "# Holden Higgins\n",
    "# 9-25-22"
   ]
  },
  {
   "cell_type": "code",
   "execution_count": 133,
   "id": "cf584316-a695-4797-b9de-6ccad34d72de",
   "metadata": {},
   "outputs": [],
   "source": [
    "import json\n",
    "import urllib3\n",
    "import time\n",
    "from datetime import datetime"
   ]
  },
  {
   "cell_type": "code",
   "execution_count": 167,
   "id": "067fcbb3-0bba-4b20-9d45-bd2965b00a7b",
   "metadata": {},
   "outputs": [
    {
     "name": "stdin",
     "output_type": "stream",
     "text": [
      "Paste your api key \n"
     ]
    }
   ],
   "source": [
    "api_key = input('Paste your api key')"
   ]
  },
  {
   "cell_type": "code",
   "execution_count": 161,
   "id": "c6278e62-b9a0-4cc5-a16b-b341c9c25306",
   "metadata": {},
   "outputs": [],
   "source": [
    "host = \"https://api.the-odds-api.com\"\n",
    "oddsFormat = \"decimal\"\n",
    "regions = \"us\"\n",
    "sports_endpoint = f\"{host}/v4/sports/?apiKey={api_key}\""
   ]
  },
  {
   "cell_type": "code",
   "execution_count": 162,
   "id": "2c9d6d33-9558-4709-bc7c-2a441366e1a7",
   "metadata": {},
   "outputs": [],
   "source": [
    "IL_books = {\n",
    "    'betmgm',\n",
    "    'barstool',\n",
    "    'pointsbetus',\n",
    "    'williamhill_us',\n",
    "    'fanduel',\n",
    "    'draftkings',\n",
    "    'betrivers',\n",
    "    'unibet'}"
   ]
  },
  {
   "cell_type": "code",
   "execution_count": 163,
   "id": "a043193d-a52b-4039-aab7-28cbecec6407",
   "metadata": {},
   "outputs": [],
   "source": [
    "valid_sports = [\n",
    "    'americanfootball_ncaaf',\n",
    "    'americanfootball_nfl',\n",
    "    'baseball_mlb',\n",
    "    'basketball_nba',\n",
    "    'cricket_caribbean_premier_league',\n",
    "    'cricket_international_t20',\n",
    "    'icehockey_nhl',\n",
    "    'icehockey_sweden_allsvenskan',\n",
    "    'icehockey_sweden_hockey_league',\n",
    "    'mma_mixed_martial_arts',\n",
    "    'rugbyleague_nrl',\n",
    "    'soccer_argentina_primera_division',\n",
    "    'soccer_australia_aleague',\n",
    "    'soccer_belgium_first_div',\n",
    "    'soccer_brazil_campeonato',\n",
    "    'soccer_brazil_serie_b',\n",
    "    'soccer_chile_campeonato',\n",
    "    'soccer_china_superleague',\n",
    "    'soccer_conmebol_copa_libertadores',\n",
    "    'soccer_denmark_superliga',\n",
    "    'soccer_england_league1',\n",
    "    'soccer_england_league2',\n",
    "    'soccer_epl',\n",
    "    'soccer_finland_veikkausliiga',\n",
    "    'soccer_france_ligue_one',\n",
    "    'soccer_france_ligue_two',\n",
    "    'soccer_germany_bundesliga',\n",
    "    'soccer_germany_bundesliga2',\n",
    "    'soccer_italy_serie_a',\n",
    "    'soccer_italy_serie_b',\n",
    "    'soccer_japan_j_league',\n",
    "    'soccer_league_of_ireland',\n",
    "    'soccer_mexico_ligamx',\n",
    "    'soccer_netherlands_eredivisie',\n",
    "    'soccer_norway_eliteserien',\n",
    "    'soccer_poland_ekstraklasa',\n",
    "    'soccer_portugal_primeira_liga',\n",
    "    'soccer_spain_la_liga',\n",
    "    'soccer_spain_segunda_division',\n",
    "    'soccer_spl',\n",
    "    'soccer_sweden_allsvenskan',\n",
    "    'soccer_sweden_superettan',\n",
    "    'soccer_switzerland_superleague',\n",
    "    'soccer_turkey_super_league',\n",
    "    'soccer_uefa_champs_league',\n",
    "    'soccer_uefa_europa_league',\n",
    "    'soccer_uefa_nations_league',\n",
    "    'soccer_usa_mls']"
   ]
  },
  {
   "cell_type": "code",
   "execution_count": 164,
   "id": "4faf8917-b645-4962-ade3-2a04ea890e4b",
   "metadata": {},
   "outputs": [],
   "source": [
    "http = urllib3.PoolManager()"
   ]
  },
  {
   "cell_type": "code",
   "execution_count": 165,
   "id": "59fad611-4b30-470d-99bb-ad22dd52f306",
   "metadata": {},
   "outputs": [
    {
     "data": {
      "text/plain": [
       "200"
      ]
     },
     "execution_count": 165,
     "metadata": {},
     "output_type": "execute_result"
    }
   ],
   "source": [
    "r = http.request('GET', sports_endpoint)\n",
    "r.status"
   ]
  },
  {
   "cell_type": "code",
   "execution_count": 166,
   "id": "d0fd56b0-5d87-43ec-bd9c-6155df124ec1",
   "metadata": {},
   "outputs": [],
   "source": [
    "sports = [sport[\"key\"] for sport in json.loads(r.data)]"
   ]
  },
  {
   "cell_type": "code",
   "execution_count": 72,
   "id": "d091ed9b-2ed3-4ad3-8bc9-dce95363b5c7",
   "metadata": {},
   "outputs": [
    {
     "name": "stdout",
     "output_type": "stream",
     "text": [
      "fetched americanfootball_ncaaf\n",
      "fetched americanfootball_nfl\n",
      "fetched baseball_mlb\n",
      "fetched basketball_nba\n",
      "fetched cricket_caribbean_premier_league\n",
      "fetched cricket_icc_world_cup\n",
      "fetched cricket_international_t20\n",
      "fetched icehockey_nhl\n",
      "fetched icehockey_sweden_allsvenskan\n",
      "fetched icehockey_sweden_hockey_league\n",
      "fetched mma_mixed_martial_arts\n",
      "fetched rugbyleague_nrl\n",
      "fetched soccer_argentina_primera_division\n",
      "fetched soccer_australia_aleague\n",
      "fetched soccer_belgium_first_div\n",
      "fetched soccer_brazil_campeonato\n",
      "fetched soccer_brazil_serie_b\n",
      "fetched soccer_chile_campeonato\n",
      "fetched soccer_china_superleague\n",
      "fetched soccer_conmebol_copa_libertadores\n",
      "fetched soccer_denmark_superliga\n",
      "fetched soccer_england_league1\n",
      "fetched soccer_england_league2\n",
      "fetched soccer_epl\n",
      "fetched soccer_fifa_world_cup\n",
      "fetched soccer_finland_veikkausliiga\n",
      "fetched soccer_france_ligue_one\n",
      "fetched soccer_france_ligue_two\n",
      "fetched soccer_germany_bundesliga\n",
      "fetched soccer_germany_bundesliga2\n",
      "fetched soccer_italy_serie_a\n",
      "fetched soccer_italy_serie_b\n",
      "fetched soccer_japan_j_league\n",
      "fetched soccer_league_of_ireland\n",
      "fetched soccer_mexico_ligamx\n",
      "fetched soccer_netherlands_eredivisie\n",
      "fetched soccer_norway_eliteserien\n",
      "fetched soccer_poland_ekstraklasa\n",
      "fetched soccer_portugal_primeira_liga\n",
      "fetched soccer_spain_la_liga\n",
      "fetched soccer_spain_segunda_division\n",
      "fetched soccer_spl\n",
      "fetched soccer_sweden_allsvenskan\n",
      "fetched soccer_sweden_superettan\n",
      "fetched soccer_switzerland_superleague\n",
      "fetched soccer_turkey_super_league\n",
      "fetched soccer_uefa_champs_league\n",
      "fetched soccer_uefa_europa_league\n",
      "fetched soccer_uefa_nations_league\n",
      "fetched soccer_usa_mls\n"
     ]
    }
   ],
   "source": [
    "# BE careful! this uses api keys\n",
    "data_by_sport = {}\n",
    "for sport in valid_sports:\n",
    "    single_sport_endpoint = f\"{host}/v4/sports/{sport}/odds?regions={regions}&oddsFormat={oddsFormat}&apiKey={api_key}\"\n",
    "    r = http.request(\"GET\", single_sport_endpoint)\n",
    "    data_by_sport[sport] = json.loads(r.data)\n",
    "    print(f\"fetched {sport}\")\n",
    "    time.sleep(1)"
   ]
  },
  {
   "cell_type": "code",
   "execution_count": 168,
   "id": "c1c0000d-643a-4028-810f-0321783aac1c",
   "metadata": {},
   "outputs": [
    {
     "data": {
      "text/plain": [
       "HTTPHeaderDict({'Date': 'Sun, 25 Sep 2022 23:32:06 GMT', 'Content-Type': 'application/json; charset=utf-8', 'Content-Length': '9028', 'Connection': 'keep-alive', 'vary': 'Accept-Encoding', 'X-Requests-Used': '53', 'X-Requests-Remaining': '447', 'Apigw-Requestid': 'ZCi2mi9hoAMESiQ='})"
      ]
     },
     "execution_count": 168,
     "metadata": {},
     "output_type": "execute_result"
    }
   ],
   "source": [
    "r.headers"
   ]
  },
  {
   "cell_type": "code",
   "execution_count": 76,
   "id": "82b55b79-1abf-4235-baa0-e153d48a1b93",
   "metadata": {},
   "outputs": [],
   "source": [
    "# [(sport, [book['key'] for book in sport_data[0]['bookmakers']]) for sport, sport_data in data_by_sport.items()]"
   ]
  },
  {
   "cell_type": "code",
   "execution_count": 151,
   "id": "49896145-be0e-4219-850c-53cd1b5be3f0",
   "metadata": {},
   "outputs": [],
   "source": [
    "def get_pos_ev_bets(sport_data, can_draw):\n",
    "    for game in sport_data:\n",
    "        if datetime.fromisoformat(game['commence_time'].strip('Z')) < datetime.utcnow():\n",
    "            continue\n",
    "        home_team = game['home_team']\n",
    "        away_team = game['away_team']\n",
    "        game_odds_by_bookmaker = {}\n",
    "        for bookmaker in game['bookmakers']:\n",
    "            if bookmaker['key'] not in IL_books:\n",
    "                continue\n",
    "            bookmaker_odds = bookmaker['markets'][0]\n",
    "            game_odds_by_bookmaker[bookmaker['key']] = {outcome['name']:outcome['price'] for outcome in bookmaker_odds['outcomes']}\n",
    "\n",
    "        if can_draw:\n",
    "            for bookmaker, game_odds in game_odds_by_bookmaker.items():\n",
    "                for bookmaker2, game_odds2 in game_odds_by_bookmaker.items():\n",
    "                    for bookmaker3, game_odds3 in game_odds_by_bookmaker.items():\n",
    "                        implied_probability = 1/game_odds[home_team] + 1/game_odds2[away_team] + 1/game_odds3['Draw']\n",
    "                        if implied_probability < 1:\n",
    "                            print(\"{:.3f}\".format(implied_probability), bookmaker, bookmaker2, bookmaker3, f\"{home_team} vs. {away_team}\")\n",
    "        else:\n",
    "            for bookmaker, game_odds in game_odds_by_bookmaker.items():\n",
    "                for bookmaker2, game_odds2 in game_odds_by_bookmaker.items():\n",
    "                    implied_probability = 1/game_odds[home_team] + 1/game_odds2[away_team]\n",
    "                    if implied_probability < 1:\n",
    "                        print(\"{:.3f}\".format(implied_probability), bookmaker, bookmaker2, f\"{home_team} vs. {away_team}\")"
   ]
  },
  {
   "cell_type": "code",
   "execution_count": 153,
   "id": "0fe27e46-a43a-4849-9b66-6e3538fc04c2",
   "metadata": {},
   "outputs": [
    {
     "name": "stdout",
     "output_type": "stream",
     "text": [
      "americanfootball_ncaaf==========================================\n",
      "americanfootball_nfl==========================================\n",
      "baseball_mlb==========================================\n",
      "basketball_nba==========================================\n",
      "0.998 fanduel unibet Los Angeles Lakers vs. Los Angeles Clippers\n",
      "0.998 fanduel barstool Los Angeles Lakers vs. Los Angeles Clippers\n",
      "0.998 fanduel betrivers Los Angeles Lakers vs. Los Angeles Clippers\n",
      "cricket_caribbean_premier_league==========================================\n",
      "cricket_icc_world_cup==========================================\n",
      "cricket_international_t20==========================================\n",
      "icehockey_nhl==========================================\n",
      "icehockey_sweden_allsvenskan==========================================\n",
      "icehockey_sweden_hockey_league==========================================\n",
      "mma_mixed_martial_arts==========================================\n",
      "rugbyleague_nrl==========================================\n",
      "soccer_argentina_primera_division==========================================\n",
      "soccer_australia_aleague==========================================\n",
      "soccer_belgium_first_div==========================================\n",
      "soccer_brazil_campeonato==========================================\n",
      "soccer_brazil_serie_b==========================================\n",
      "soccer_chile_campeonato==========================================\n",
      "soccer_china_superleague==========================================\n",
      "soccer_conmebol_copa_libertadores==========================================\n",
      "soccer_denmark_superliga==========================================\n",
      "soccer_england_league1==========================================\n",
      "soccer_england_league2==========================================\n",
      "soccer_epl==========================================\n",
      "soccer_fifa_world_cup==========================================\n",
      "soccer_finland_veikkausliiga==========================================\n",
      "soccer_france_ligue_one==========================================\n",
      "soccer_france_ligue_two==========================================\n",
      "soccer_germany_bundesliga==========================================\n",
      "soccer_germany_bundesliga2==========================================\n",
      "soccer_italy_serie_a==========================================\n",
      "soccer_italy_serie_b==========================================\n",
      "soccer_japan_j_league==========================================\n",
      "soccer_league_of_ireland==========================================\n",
      "soccer_mexico_ligamx==========================================\n",
      "soccer_netherlands_eredivisie==========================================\n",
      "soccer_norway_eliteserien==========================================\n",
      "soccer_poland_ekstraklasa==========================================\n",
      "soccer_portugal_primeira_liga==========================================\n",
      "soccer_spain_la_liga==========================================\n",
      "soccer_spain_segunda_division==========================================\n",
      "soccer_spl==========================================\n",
      "soccer_sweden_allsvenskan==========================================\n",
      "soccer_sweden_superettan==========================================\n",
      "soccer_switzerland_superleague==========================================\n",
      "soccer_turkey_super_league==========================================\n",
      "soccer_uefa_champs_league==========================================\n",
      "soccer_uefa_europa_league==========================================\n",
      "soccer_uefa_nations_league==========================================\n",
      "soccer_usa_mls==========================================\n"
     ]
    }
   ],
   "source": [
    "for sport, sport_data in data_by_sport.items():\n",
    "    print(sport + \"==========================================\")\n",
    "    can_draw = sport.startswith(\"soccer\") or sport.startswith(\"icehockey_sweden\")\n",
    "    get_pos_ev_bets(sport_data, can_draw)\n",
    "    \n",
    "    "
   ]
  }
 ],
 "metadata": {
  "kernelspec": {
   "display_name": "Python 3 (ipykernel)",
   "language": "python",
   "name": "python3"
  },
  "language_info": {
   "codemirror_mode": {
    "name": "ipython",
    "version": 3
   },
   "file_extension": ".py",
   "mimetype": "text/x-python",
   "name": "python",
   "nbconvert_exporter": "python",
   "pygments_lexer": "ipython3",
   "version": "3.9.2"
  }
 },
 "nbformat": 4,
 "nbformat_minor": 5
}
